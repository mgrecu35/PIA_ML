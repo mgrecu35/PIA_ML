{
 "cells": [
  {
   "cell_type": "markdown",
   "id": "5b9e93c5-c911-4908-bf9a-7ff8ee1018c6",
   "metadata": {
    "tags": []
   },
   "source": [
    "### Analysis of the consistency between SRT PIA estimates\n",
    "* The fraction of moderate intensity convective profiles associated with reliable SRT PIA estimates is $f=24.50\\%$.  The remaining $75.00\\%$ will have\n",
    "to rely on \"a priori\" information for DSD parameter adjustments.\n",
    "* The joint distribution is show below\n",
    "![image](\\(d\\)SRTPIA_LightConv.png)\n",
    "* Correlation coefficient is 0.1645. RMSE is 2.42 dB.\n",
    "![image](dSRT_ML_PIA_LightConv.png)\n",
    "* Correlation coefficient between dSRT and ML PIA is 0.51.  RMSE is 0.54 dB."
   ]
  },
  {
   "cell_type": "code",
   "execution_count": null,
   "id": "6dd85843-ca5c-4737-a5e2-d09af59a1dbe",
   "metadata": {},
   "outputs": [],
   "source": []
  },
  {
   "cell_type": "code",
   "execution_count": null,
   "id": "0b552559-857d-4401-b62f-6348f41067cd",
   "metadata": {},
   "outputs": [],
   "source": []
  }
 ],
 "metadata": {
  "kernelspec": {
   "display_name": "Python 3 (ipykernel)",
   "language": "python",
   "name": "python3"
  },
  "language_info": {
   "codemirror_mode": {
    "name": "ipython",
    "version": 3
   },
   "file_extension": ".py",
   "mimetype": "text/x-python",
   "name": "python",
   "nbconvert_exporter": "python",
   "pygments_lexer": "ipython3",
   "version": "3.9.13"
  }
 },
 "nbformat": 4,
 "nbformat_minor": 5
}
